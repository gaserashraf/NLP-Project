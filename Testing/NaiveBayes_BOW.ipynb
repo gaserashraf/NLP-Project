{
 "cells": [
  {
   "cell_type": "code",
   "execution_count": 24,
   "metadata": {},
   "outputs": [],
   "source": [
    "import pandas as pd\n",
    "import numpy as np\n",
    "from sklearn.metrics import accuracy_score\n",
    "import matplotlib.pyplot as plt\n",
    "from sklearn.naive_bayes import GaussianNB\n",
    "from sklearn.metrics import classification_report"
   ]
  },
  {
   "attachments": {},
   "cell_type": "markdown",
   "metadata": {},
   "source": [
    "# Naive Bayes Classifier with Bag Of Words"
   ]
  },
  {
   "attachments": {},
   "cell_type": "markdown",
   "metadata": {},
   "source": [
    "### Read The data"
   ]
  },
  {
   "cell_type": "code",
   "execution_count": 25,
   "metadata": {},
   "outputs": [],
   "source": [
    "##############For Training Data#####################\n",
    "# Read the data from the csv file named 'preprocessedData.csv' arabic data\n",
    "train1 = pd.read_csv('../Dataset/cleaned_train.csv', encoding='utf-8')\n",
    "train2 = pd.read_csv('../Dataset/cleaned_dev.csv', encoding='utf-8')\n",
    "\n",
    "train = pd.concat([train1, train2], ignore_index=True)\n",
    "# Unpack the data into text and stance\n",
    "Train_X = train['text']\n",
    "stance_Train_Y = train['stance']\n",
    "cat_Train_Y = train['category']\n",
    "\n",
    "##############For Testing Data#####################\n",
    "test = pd.read_csv('../Dataset/cleaned_test_farasa.csv', encoding='utf-8')\n",
    "# Unpack the data into text, and stance\n",
    "Test_X = test['text']"
   ]
  },
  {
   "cell_type": "code",
   "execution_count": 26,
   "metadata": {},
   "outputs": [
    {
     "name": "stdout",
     "output_type": "stream",
     "text": [
      "Train_X:  0       بيل غيتس يتلقى لقاح تصوير الابرة السيرنجة الدو...\n",
      "1       وزير الصحة لحد اليوم وتحديدا هلأ بمؤتمروا الصح...\n",
      "2       قولكن رح يكونو اد المسؤولية لبنان يوصل اللقاح ...\n",
      "3       وزير الصحة فخر الدين قوجة يتلقى جرعة لقاح كورو...\n",
      "4       وئام وهاب يشتم الدول الخليجية طلة اعلامية ويتس...\n",
      "                              ...                        \n",
      "7983    ينبغي للمعلمين يكونوا أوائل سيتاح الحصول لقاح ...\n",
      "7984    عاجل دراسة بريطانية لقاح أسترازينيكا يوفر حماي...\n",
      "7985    دبي تبدأ حملة تطعيم بلقاح شركة سينوفارم الصيني...\n",
      "7986    یجب نجلس بحاجة إلی الذهاب لاعدائنا لسد احتیاجا...\n",
      "7987    وسط ضجيج اللقاحات تسجل يوميا دول العالم وخصوصا...\n",
      "Name: text, Length: 7988, dtype: object\n"
     ]
    }
   ],
   "source": [
    "print(\"Train_X: \", Train_X)"
   ]
  },
  {
   "attachments": {},
   "cell_type": "markdown",
   "metadata": {},
   "source": [
    "### Build the BOW "
   ]
  },
  {
   "cell_type": "code",
   "execution_count": 27,
   "metadata": {},
   "outputs": [],
   "source": [
    "from sklearn.feature_extraction.text import CountVectorizer\n",
    "\n",
    "#Assigning CountVectorizer to tvariable\n",
    "count_vect = CountVectorizer().fit(Train_X)\n",
    "\n",
    "#Fitting and transforming input data\n",
    "Train_X_BOW = count_vect.transform(Train_X).toarray()\n",
    "Test_X_BOW = count_vect.transform(Test_X).toarray()"
   ]
  },
  {
   "attachments": {},
   "cell_type": "markdown",
   "metadata": {},
   "source": [
    "## For Stance Classification"
   ]
  },
  {
   "attachments": {},
   "cell_type": "markdown",
   "metadata": {},
   "source": [
    "### Apply SMOTE to the training data to balance the classes"
   ]
  },
  {
   "cell_type": "code",
   "execution_count": 28,
   "metadata": {},
   "outputs": [
    {
     "name": "stdout",
     "output_type": "stream",
     "text": [
      "0.10.0\n",
      "Counter({1: 6342, 0: 1138, -1: 508})\n",
      "Counter({1: 6342, 0: 6342, -1: 6342})\n"
     ]
    }
   ],
   "source": [
    "# Here we want to apply SMOTE to the data to balance the data against 3 classes\n",
    "# check version number\n",
    "import imblearn\n",
    "print(imblearn.__version__)\n",
    "# Count the number of each class\n",
    "from collections import Counter\n",
    "from imblearn.over_sampling import SMOTE\n",
    "print(Counter(stance_Train_Y))\n",
    "# transform the dataset\n",
    "oversample = SMOTE()\n",
    "SMOTE_Train_X_BOW, SMOTE_stance_Train_Y = oversample.fit_resample(Train_X_BOW, stance_Train_Y)\n",
    "print(Counter(SMOTE_stance_Train_Y))\n"
   ]
  },
  {
   "attachments": {},
   "cell_type": "markdown",
   "metadata": {},
   "source": [
    "### Classify without SMOTE"
   ]
  },
  {
   "cell_type": "code",
   "execution_count": 29,
   "metadata": {},
   "outputs": [],
   "source": [
    "# instantiate the model (using the default parameters)\n",
    "NB = GaussianNB()\n",
    "\n",
    "# fit the model with data\n",
    "NB.fit(Train_X_BOW, stance_Train_Y)\n",
    "\n",
    "##perform classification and prediction on samples in tf_test\n",
    "predicted_NB = NB.predict(Test_X_BOW)"
   ]
  },
  {
   "cell_type": "code",
   "execution_count": 30,
   "metadata": {},
   "outputs": [
    {
     "name": "stdout",
     "output_type": "stream",
     "text": [
      "Counter({1: 1514, 0: 337, -1: 149})\n"
     ]
    }
   ],
   "source": [
    "print(Counter(predicted_NB))"
   ]
  },
  {
   "cell_type": "code",
   "execution_count": 31,
   "metadata": {},
   "outputs": [],
   "source": [
    "test['stance'] = predicted_NB"
   ]
  },
  {
   "attachments": {},
   "cell_type": "markdown",
   "metadata": {},
   "source": [
    "### Classify with SMOTE"
   ]
  },
  {
   "cell_type": "code",
   "execution_count": 16,
   "metadata": {},
   "outputs": [],
   "source": [
    "# instantiate the model (using the default parameters)\n",
    "SMOTE_NB = GaussianNB()\n",
    "\n",
    "# fit the model with data\n",
    "SMOTE_NB.fit(SMOTE_Train_X_BOW, SMOTE_stance_Train_Y)\n",
    "\n",
    "##perform classification and prediction on samples in tf_test\n",
    "SMOTE_predicted_NB = SMOTE_NB.predict(Test_X_BOW)"
   ]
  },
  {
   "cell_type": "code",
   "execution_count": 18,
   "metadata": {},
   "outputs": [
    {
     "name": "stdout",
     "output_type": "stream",
     "text": [
      "Counter({1: 1514, 0: 337, -1: 149})\n"
     ]
    }
   ],
   "source": [
    "print(Counter(SMOTE_predicted_NB))"
   ]
  },
  {
   "attachments": {},
   "cell_type": "markdown",
   "metadata": {},
   "source": [
    "## For Category Classification"
   ]
  },
  {
   "attachments": {},
   "cell_type": "markdown",
   "metadata": {},
   "source": [
    "### Apply SMOTE to the training data to balance the classes"
   ]
  },
  {
   "cell_type": "code",
   "execution_count": 32,
   "metadata": {},
   "outputs": [
    {
     "name": "stdout",
     "output_type": "stream",
     "text": [
      "0.10.0\n",
      "Counter({'info_news': 4161, 'personal': 1153, 'celebrity': 1120, 'plan': 688, 'unrelated': 359, 'others': 184, 'requests': 132, 'rumors': 94, 'advice': 77, 'restrictions': 20})\n",
      "Counter({'celebrity': 4161, 'info_news': 4161, 'personal': 4161, 'unrelated': 4161, 'plan': 4161, 'requests': 4161, 'others': 4161, 'rumors': 4161, 'advice': 4161, 'restrictions': 4161})\n"
     ]
    }
   ],
   "source": [
    "# Here we want to apply SMOTE to the data to balance the data against 3 classes\n",
    "# check version number\n",
    "import imblearn\n",
    "print(imblearn.__version__)\n",
    "# Count the number of each class\n",
    "from collections import Counter\n",
    "from imblearn.over_sampling import SMOTE\n",
    "print(Counter(cat_Train_Y))\n",
    "# transform the dataset\n",
    "oversample = SMOTE()\n",
    "SMOTE_Train_X_BOW, SMOTE_cat_Train_Y = oversample.fit_resample(Train_X_BOW, cat_Train_Y)\n",
    "print(Counter(SMOTE_cat_Train_Y))\n"
   ]
  },
  {
   "attachments": {},
   "cell_type": "markdown",
   "metadata": {},
   "source": [
    "### Classify without SMOTE"
   ]
  },
  {
   "cell_type": "code",
   "execution_count": 20,
   "metadata": {},
   "outputs": [],
   "source": [
    "# instantiate the model (using the default parameters)\n",
    "NB = GaussianNB()\n",
    "\n",
    "# fit the model with data\n",
    "NB.fit(Train_X_BOW, cat_Train_Y)\n",
    "\n",
    "##perform classification and prediction on samples in tf_test\n",
    "predicted_NB = NB.predict(Test_X_BOW)"
   ]
  },
  {
   "cell_type": "code",
   "execution_count": 21,
   "metadata": {},
   "outputs": [
    {
     "name": "stdout",
     "output_type": "stream",
     "text": [
      "Counter({'info_news': 1239, 'personal': 282, 'celebrity': 180, 'plan': 144, 'advice': 47, 'unrelated': 42, 'others': 31, 'rumors': 14, 'requests': 14, 'restrictions': 7})\n"
     ]
    }
   ],
   "source": [
    "print(Counter(predicted_NB))"
   ]
  },
  {
   "attachments": {},
   "cell_type": "markdown",
   "metadata": {},
   "source": [
    "### Classify with SMOTE"
   ]
  },
  {
   "cell_type": "code",
   "execution_count": 33,
   "metadata": {},
   "outputs": [],
   "source": [
    "# instantiate the model (using the default parameters)\n",
    "SMOTE_NB = GaussianNB()\n",
    "\n",
    "# fit the model with data\n",
    "SMOTE_NB.fit(SMOTE_Train_X_BOW, SMOTE_cat_Train_Y)\n",
    "\n",
    "##perform classification and prediction on samples in tf_test\n",
    "predicted_NB = SMOTE_NB.predict(Test_X_BOW)"
   ]
  },
  {
   "cell_type": "code",
   "execution_count": 34,
   "metadata": {},
   "outputs": [
    {
     "name": "stdout",
     "output_type": "stream",
     "text": [
      "Counter({'info_news': 1239, 'personal': 282, 'celebrity': 175, 'plan': 152, 'advice': 47, 'unrelated': 39, 'others': 31, 'requests': 15, 'rumors': 13, 'restrictions': 7})\n"
     ]
    }
   ],
   "source": [
    "print(Counter(predicted_NB))"
   ]
  },
  {
   "cell_type": "code",
   "execution_count": 36,
   "metadata": {},
   "outputs": [],
   "source": [
    "test['category'] = predicted_NB\n",
    "test.to_csv('./output/NaiveBayes_BOW.csv', index=False)"
   ]
  },
  {
   "cell_type": "code",
   "execution_count": null,
   "metadata": {},
   "outputs": [],
   "source": []
  }
 ],
 "metadata": {
  "kernelspec": {
   "display_name": "base",
   "language": "python",
   "name": "python3"
  },
  "language_info": {
   "codemirror_mode": {
    "name": "ipython",
    "version": 3
   },
   "file_extension": ".py",
   "mimetype": "text/x-python",
   "name": "python",
   "nbconvert_exporter": "python",
   "pygments_lexer": "ipython3",
   "version": "3.9.13"
  },
  "orig_nbformat": 4,
  "vscode": {
   "interpreter": {
    "hash": "79fdc8352940022464368746d67d12dbc9a3740708d0e5e01c2eafb24b507835"
   }
  }
 },
 "nbformat": 4,
 "nbformat_minor": 2
}
