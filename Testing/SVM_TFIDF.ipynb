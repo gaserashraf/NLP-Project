{
 "cells": [
  {
   "cell_type": "code",
   "execution_count": 25,
   "metadata": {},
   "outputs": [],
   "source": [
    "import pandas as pd\n",
    "import numpy as np\n",
    "from preprocessing import *\n",
    "from sklearn.feature_extraction.text import TfidfVectorizer\n",
    "from sklearn import model_selection, naive_bayes, svm\n",
    "from sklearn.metrics import accuracy_score\n",
    "from sklearn.preprocessing import LabelEncoder\n",
    "from sklearn.metrics import classification_report\n"
   ]
  },
  {
   "attachments": {},
   "cell_type": "markdown",
   "metadata": {},
   "source": [
    "# SVM Classifier with TF-IDF"
   ]
  },
  {
   "attachments": {},
   "cell_type": "markdown",
   "metadata": {},
   "source": [
    "### Read the data"
   ]
  },
  {
   "cell_type": "code",
   "execution_count": 26,
   "metadata": {},
   "outputs": [],
   "source": [
    "##############For Training Data#####################\n",
    "# Read the data from the csv file named 'preprocessedData.csv' arabic data\n",
    "train1 = pd.read_csv('../Dataset/cleaned_train.csv', encoding='utf-8')\n",
    "train2 = pd.read_csv('../Dataset/cleaned_dev.csv', encoding='utf-8')\n",
    "\n",
    "train = pd.concat([train1, train2], ignore_index=True)\n",
    "# Unpack the data into text and stance\n",
    "Train_X = train['text']\n",
    "stance_Train_Y = train['stance']\n",
    "cat_Train_Y = train['category']\n",
    "\n",
    "##############For Testing Data#####################\n",
    "test = pd.read_csv('../Dataset/cleaned_test_farasa.csv', encoding='utf-8')\n",
    "# Unpack the data into text, and stance\n",
    "Test_X = test['text']"
   ]
  },
  {
   "cell_type": "code",
   "execution_count": 27,
   "metadata": {},
   "outputs": [
    {
     "name": "stdout",
     "output_type": "stream",
     "text": [
      "Train_X:  0       بيل غيتس يتلقى لقاح تصوير الابرة السيرنجة الدو...\n",
      "1       وزير الصحة لحد اليوم وتحديدا هلأ بمؤتمروا الصح...\n",
      "2       قولكن رح يكونو اد المسؤولية لبنان يوصل اللقاح ...\n",
      "3       وزير الصحة فخر الدين قوجة يتلقى جرعة لقاح كورو...\n",
      "4       وئام وهاب يشتم الدول الخليجية طلة اعلامية ويتس...\n",
      "                              ...                        \n",
      "7983    ينبغي للمعلمين يكونوا أوائل سيتاح الحصول لقاح ...\n",
      "7984    عاجل دراسة بريطانية لقاح أسترازينيكا يوفر حماي...\n",
      "7985    دبي تبدأ حملة تطعيم بلقاح شركة سينوفارم الصيني...\n",
      "7986    یجب نجلس بحاجة إلی الذهاب لاعدائنا لسد احتیاجا...\n",
      "7987    وسط ضجيج اللقاحات تسجل يوميا دول العالم وخصوصا...\n",
      "Name: text, Length: 7988, dtype: object\n"
     ]
    }
   ],
   "source": [
    "print(\"Train_X: \", Train_X)"
   ]
  },
  {
   "attachments": {},
   "cell_type": "markdown",
   "metadata": {},
   "source": [
    "### Build the TFIDF"
   ]
  },
  {
   "cell_type": "code",
   "execution_count": 28,
   "metadata": {},
   "outputs": [],
   "source": [
    "# Here we want to calculate the TF-IDF score for each word in the corpus\n",
    "\n",
    "Tfidf_vect = TfidfVectorizer(max_features=27000)\n",
    "Tfidf_vect.fit(train['text'])\n",
    "Train_X_Tfidf = Tfidf_vect.transform(Train_X)\n",
    "Test_X_Tfidf = Tfidf_vect.transform(Test_X)\n"
   ]
  },
  {
   "attachments": {},
   "cell_type": "markdown",
   "metadata": {},
   "source": [
    "## For Stance Classification"
   ]
  },
  {
   "attachments": {},
   "cell_type": "markdown",
   "metadata": {},
   "source": [
    "### Apply SMOTE to the training data to balance the classes"
   ]
  },
  {
   "cell_type": "code",
   "execution_count": 29,
   "metadata": {},
   "outputs": [
    {
     "name": "stdout",
     "output_type": "stream",
     "text": [
      "0.10.0\n",
      "Counter({1: 6342, 0: 1138, -1: 508})\n",
      "Counter({1: 6342, 0: 6342, -1: 6342})\n"
     ]
    }
   ],
   "source": [
    "# Here we want to apply SMOTE to the data to balance the data against 3 classes\n",
    "# check version number\n",
    "import imblearn\n",
    "print(imblearn.__version__)\n",
    "# Count the number of each class\n",
    "from collections import Counter\n",
    "from imblearn.over_sampling import SMOTE\n",
    "print(Counter(stance_Train_Y))\n",
    "# transform the dataset\n",
    "oversample = SMOTE()\n",
    "SMOTE_Train_X_Tfidf, SMOTE_stance_Train_Y = oversample.fit_resample(Train_X_Tfidf, stance_Train_Y)\n",
    "print(Counter(SMOTE_stance_Train_Y))\n"
   ]
  },
  {
   "attachments": {},
   "cell_type": "markdown",
   "metadata": {},
   "source": [
    "### Classify without SMOTE"
   ]
  },
  {
   "cell_type": "code",
   "execution_count": 30,
   "metadata": {},
   "outputs": [],
   "source": [
    "# Classifier - Algorithm - SVM\n",
    "# fit the training dataset on the classifier\n",
    "# What is the best kernel for SVM in the case of multi-class classification? - Quora\n",
    "SVM = svm.SVC(C=1.0, kernel='linear', gamma='auto')\n",
    "SVM.fit(Train_X_Tfidf,stance_Train_Y)\n",
    "# predict the labels on validation dataset\n",
    "predictions_SVM = SVM.predict(Test_X_Tfidf)"
   ]
  },
  {
   "cell_type": "code",
   "execution_count": 31,
   "metadata": {},
   "outputs": [
    {
     "name": "stdout",
     "output_type": "stream",
     "text": [
      "Counter({1: 1925, 0: 48, -1: 27})\n"
     ]
    }
   ],
   "source": [
    "print(Counter(predictions_SVM))"
   ]
  },
  {
   "attachments": {},
   "cell_type": "markdown",
   "metadata": {},
   "source": [
    "### Classify with SMOTE"
   ]
  },
  {
   "cell_type": "code",
   "execution_count": 32,
   "metadata": {},
   "outputs": [],
   "source": [
    "# Classifier - Algorithm - SVM\n",
    "# fit the training dataset on the classifier\n",
    "# What is the best kernel for SVM in the case of multi-class classification? - Quora\n",
    "SMOTE_SVM = svm.SVC(C=1.0, kernel='linear', gamma='auto')\n",
    "SMOTE_SVM.fit(SMOTE_Train_X_Tfidf,SMOTE_stance_Train_Y)\n",
    "# predict the labels on validation dataset\n",
    "predictions_SMOTE_SVM = SMOTE_SVM.predict(Test_X_Tfidf)"
   ]
  },
  {
   "cell_type": "code",
   "execution_count": 33,
   "metadata": {},
   "outputs": [
    {
     "name": "stdout",
     "output_type": "stream",
     "text": [
      "Counter({1: 1636, 0: 301, -1: 63})\n"
     ]
    }
   ],
   "source": [
    "print(Counter(predictions_SMOTE_SVM))"
   ]
  },
  {
   "cell_type": "code",
   "execution_count": 34,
   "metadata": {},
   "outputs": [],
   "source": [
    "# Save the predictions to a csv file\n",
    "test['stance'] = predictions_SMOTE_SVM"
   ]
  },
  {
   "attachments": {},
   "cell_type": "markdown",
   "metadata": {},
   "source": [
    "## For Category Classification"
   ]
  },
  {
   "attachments": {},
   "cell_type": "markdown",
   "metadata": {},
   "source": [
    "### Apply SMOTE to the training data to balance the classes"
   ]
  },
  {
   "cell_type": "code",
   "execution_count": 35,
   "metadata": {},
   "outputs": [
    {
     "name": "stdout",
     "output_type": "stream",
     "text": [
      "0.10.0\n",
      "Counter({'info_news': 4161, 'personal': 1153, 'celebrity': 1120, 'plan': 688, 'unrelated': 359, 'others': 184, 'requests': 132, 'rumors': 94, 'advice': 77, 'restrictions': 20})\n",
      "Counter({'celebrity': 4161, 'info_news': 4161, 'personal': 4161, 'unrelated': 4161, 'plan': 4161, 'requests': 4161, 'others': 4161, 'rumors': 4161, 'advice': 4161, 'restrictions': 4161})\n"
     ]
    }
   ],
   "source": [
    "# Here we want to apply SMOTE to the data to balance the data against 3 classes\n",
    "# check version number\n",
    "import imblearn\n",
    "print(imblearn.__version__)\n",
    "# Count the number of each class\n",
    "from collections import Counter\n",
    "from imblearn.over_sampling import SMOTE\n",
    "print(Counter(cat_Train_Y))\n",
    "# transform the dataset\n",
    "oversample = SMOTE()\n",
    "SMOTE_Train_X_Tfidf, SMOTE_cat_Train_Y = oversample.fit_resample(Train_X_Tfidf, cat_Train_Y)\n",
    "print(Counter(SMOTE_cat_Train_Y))\n"
   ]
  },
  {
   "attachments": {},
   "cell_type": "markdown",
   "metadata": {},
   "source": [
    "### Classify without SMOTE"
   ]
  },
  {
   "cell_type": "code",
   "execution_count": 36,
   "metadata": {},
   "outputs": [],
   "source": [
    "# Classifier - Algorithm - SVM\n",
    "# fit the training dataset on the classifier\n",
    "# What is the best kernel for SVM in the case of multi-class classification? - Quora\n",
    "SVM = svm.SVC(C=1.0, kernel='linear', gamma='auto')\n",
    "SVM.fit(Train_X_Tfidf,cat_Train_Y)\n",
    "# predict the labels on validation dataset\n",
    "predictions_SVM = SVM.predict(Test_X_Tfidf)"
   ]
  },
  {
   "cell_type": "code",
   "execution_count": 37,
   "metadata": {},
   "outputs": [
    {
     "name": "stdout",
     "output_type": "stream",
     "text": [
      "Counter({'info_news': 1682, 'celebrity': 177, 'personal': 132, 'unrelated': 6, 'plan': 3})\n"
     ]
    }
   ],
   "source": [
    "print(Counter(predictions_SVM))"
   ]
  },
  {
   "attachments": {},
   "cell_type": "markdown",
   "metadata": {},
   "source": [
    "### Classify with SMOTE"
   ]
  },
  {
   "cell_type": "code",
   "execution_count": 38,
   "metadata": {},
   "outputs": [],
   "source": [
    "# Classifier - Algorithm - SVM\n",
    "# fit the training dataset on the classifier\n",
    "# What is the best kernel for SVM in the case of multi-class classification? - Quora\n",
    "SMOTE_SVM = svm.SVC(C=1.0, kernel='linear', gamma='auto')\n",
    "SMOTE_SVM.fit(SMOTE_Train_X_Tfidf,SMOTE_cat_Train_Y)\n",
    "# predict the labels on validation dataset\n",
    "predictions_SMOTE_SVM = SMOTE_SVM.predict(Test_X_Tfidf)\n"
   ]
  },
  {
   "cell_type": "code",
   "execution_count": 39,
   "metadata": {},
   "outputs": [
    {
     "name": "stdout",
     "output_type": "stream",
     "text": [
      "Counter({'info_news': 1378, 'celebrity': 219, 'personal': 188, 'plan': 151, 'unrelated': 29, 'others': 29, 'requests': 5, 'rumors': 1})\n"
     ]
    }
   ],
   "source": [
    "print(Counter(predictions_SMOTE_SVM))"
   ]
  },
  {
   "cell_type": "code",
   "execution_count": 41,
   "metadata": {},
   "outputs": [],
   "source": [
    "# Save the predictions to a csv file\n",
    "test['category'] = predictions_SMOTE_SVM\n",
    "test.to_csv('../Dataset/predictions_SVM_TFIDF.csv', index=False)"
   ]
  },
  {
   "cell_type": "code",
   "execution_count": null,
   "metadata": {},
   "outputs": [],
   "source": []
  }
 ],
 "metadata": {
  "kernelspec": {
   "display_name": "base",
   "language": "python",
   "name": "python3"
  },
  "language_info": {
   "codemirror_mode": {
    "name": "ipython",
    "version": 3
   },
   "file_extension": ".py",
   "mimetype": "text/x-python",
   "name": "python",
   "nbconvert_exporter": "python",
   "pygments_lexer": "ipython3",
   "version": "3.9.13 (main, Aug 25 2022, 23:51:50) [MSC v.1916 64 bit (AMD64)]"
  },
  "orig_nbformat": 4,
  "vscode": {
   "interpreter": {
    "hash": "79fdc8352940022464368746d67d12dbc9a3740708d0e5e01c2eafb24b507835"
   }
  }
 },
 "nbformat": 4,
 "nbformat_minor": 2
}
