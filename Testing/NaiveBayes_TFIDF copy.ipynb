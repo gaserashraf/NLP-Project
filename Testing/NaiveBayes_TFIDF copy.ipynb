{
 "cells": [
  {
   "cell_type": "code",
   "execution_count": 14,
   "metadata": {},
   "outputs": [],
   "source": [
    "import pandas as pd\n",
    "import numpy as np\n",
    "from sklearn.metrics import accuracy_score\n",
    "import matplotlib.pyplot as plt\n",
    "from sklearn.naive_bayes import GaussianNB\n",
    "from sklearn.metrics import classification_report\n",
    "from sklearn.feature_extraction.text import TfidfVectorizer\n",
    "from sklearn import model_selection, naive_bayes, svm\n",
    "from sklearn.preprocessing import LabelEncoder"
   ]
  },
  {
   "attachments": {},
   "cell_type": "markdown",
   "metadata": {},
   "source": [
    "# Naive Bayes Classifier with TFIDF"
   ]
  },
  {
   "attachments": {},
   "cell_type": "markdown",
   "metadata": {},
   "source": [
    "### Read The data"
   ]
  },
  {
   "cell_type": "code",
   "execution_count": 15,
   "metadata": {},
   "outputs": [],
   "source": [
    "##############For Training Data#####################\n",
    "# Read the data from the csv file named 'preprocessedData.csv' arabic data\n",
    "train1 = pd.read_csv('../Dataset/cleaned_train.csv', encoding='utf-8')\n",
    "train2 = pd.read_csv('../Dataset/cleaned_dev.csv', encoding='utf-8')\n",
    "\n",
    "train = pd.concat([train1, train2], ignore_index=True)\n",
    "# Unpack the data into text and stance\n",
    "Train_X = train['text']\n",
    "stance_Train_Y = train['stance']\n",
    "cat_Train_Y = train['category']\n",
    "\n",
    "##############For Testing Data#####################\n",
    "test = pd.read_csv('../Dataset/cleaned_test_farasa.csv', encoding='utf-8')\n",
    "# Unpack the data into text, and stance\n",
    "Test_X = test['text']"
   ]
  },
  {
   "attachments": {},
   "cell_type": "markdown",
   "metadata": {},
   "source": [
    "### Build the TFIDF "
   ]
  },
  {
   "cell_type": "code",
   "execution_count": 16,
   "metadata": {},
   "outputs": [],
   "source": [
    "# Here we want to calculate the TF-IDF score for each word in the corpus\n",
    "\n",
    "Tfidf_vect = TfidfVectorizer(max_features=27000)\n",
    "Tfidf_vect.fit(train['text'])\n",
    "Train_X_Tfidf = Tfidf_vect.transform(Train_X)\n",
    "Test_X_Tfidf = Tfidf_vect.transform(Test_X)\n"
   ]
  },
  {
   "attachments": {},
   "cell_type": "markdown",
   "metadata": {},
   "source": [
    "## For Stance Classification"
   ]
  },
  {
   "attachments": {},
   "cell_type": "markdown",
   "metadata": {},
   "source": [
    "### Apply SMOTE to the training data to balance the classes"
   ]
  },
  {
   "cell_type": "code",
   "execution_count": 17,
   "metadata": {},
   "outputs": [
    {
     "name": "stdout",
     "output_type": "stream",
     "text": [
      "0.10.0\n",
      "Counter({1: 6342, 0: 1138, -1: 508})\n",
      "Counter({1: 6342, 0: 6342, -1: 6342})\n"
     ]
    }
   ],
   "source": [
    "# Here we want to apply SMOTE to the data to balance the data against 3 classes\n",
    "# check version number\n",
    "import imblearn\n",
    "print(imblearn.__version__)\n",
    "# Count the number of each class\n",
    "from collections import Counter\n",
    "from imblearn.over_sampling import SMOTE\n",
    "print(Counter(stance_Train_Y))\n",
    "# transform the dataset\n",
    "oversample = SMOTE()\n",
    "SMOTE_Train_X_Tfidf, SMOTE_stance_Train_Y = oversample.fit_resample(Train_X_Tfidf, stance_Train_Y)\n",
    "print(Counter(SMOTE_stance_Train_Y))\n"
   ]
  },
  {
   "attachments": {},
   "cell_type": "markdown",
   "metadata": {},
   "source": [
    "### Classify without SMOTE"
   ]
  },
  {
   "cell_type": "code",
   "execution_count": 18,
   "metadata": {},
   "outputs": [],
   "source": [
    "# instantiate the model (using the default parameters)\n",
    "NB = GaussianNB()\n",
    "\n",
    "# fit the model with data\n",
    "NB.fit(Train_X_Tfidf.toarray(), stance_Train_Y)\n",
    "\n",
    "##perform classification and prediction on samples in tf_test\n",
    "predicted_NB = NB.predict(Test_X_Tfidf.toarray())"
   ]
  },
  {
   "cell_type": "code",
   "execution_count": 19,
   "metadata": {},
   "outputs": [],
   "source": [
    "test['stance'] = predicted_NB"
   ]
  },
  {
   "attachments": {},
   "cell_type": "markdown",
   "metadata": {},
   "source": [
    "### Classify with SMOTE"
   ]
  },
  {
   "cell_type": "code",
   "execution_count": 7,
   "metadata": {},
   "outputs": [],
   "source": [
    "# instantiate the model (using the default parameters)\n",
    "SMOTE_NB = GaussianNB()\n",
    "\n",
    "# fit the model with data\n",
    "SMOTE_NB.fit(SMOTE_Train_X_Tfidf.toarray(), SMOTE_stance_Train_Y)\n",
    "\n",
    "##perform classification and prediction on samples in tf_test\n",
    "predicted_NB = SMOTE_NB.predict(Test_X_Tfidf.toarray())"
   ]
  },
  {
   "cell_type": "code",
   "execution_count": 8,
   "metadata": {},
   "outputs": [
    {
     "name": "stdout",
     "output_type": "stream",
     "text": [
      "Counter({1: 1517, 0: 332, -1: 151})\n"
     ]
    }
   ],
   "source": [
    "print(Counter(predicted_NB))"
   ]
  },
  {
   "attachments": {},
   "cell_type": "markdown",
   "metadata": {},
   "source": [
    "## For Category Classification"
   ]
  },
  {
   "attachments": {},
   "cell_type": "markdown",
   "metadata": {},
   "source": [
    "### Apply SMOTE to the training data to balance the classes"
   ]
  },
  {
   "cell_type": "code",
   "execution_count": 20,
   "metadata": {},
   "outputs": [
    {
     "name": "stdout",
     "output_type": "stream",
     "text": [
      "0.10.0\n",
      "Counter({'info_news': 4161, 'personal': 1153, 'celebrity': 1120, 'plan': 688, 'unrelated': 359, 'others': 184, 'requests': 132, 'rumors': 94, 'advice': 77, 'restrictions': 20})\n",
      "Counter({'celebrity': 4161, 'info_news': 4161, 'personal': 4161, 'unrelated': 4161, 'plan': 4161, 'requests': 4161, 'others': 4161, 'rumors': 4161, 'advice': 4161, 'restrictions': 4161})\n"
     ]
    }
   ],
   "source": [
    "# Here we want to apply SMOTE to the data to balance the data against 3 classes\n",
    "# check version number\n",
    "import imblearn\n",
    "print(imblearn.__version__)\n",
    "# Count the number of each class\n",
    "from collections import Counter\n",
    "from imblearn.over_sampling import SMOTE\n",
    "print(Counter(cat_Train_Y))\n",
    "# transform the dataset\n",
    "oversample = SMOTE()\n",
    "SMOTE_Train_X_Tfidf, SMOTE_cat_Train_Y = oversample.fit_resample(Train_X_Tfidf, cat_Train_Y)\n",
    "print(Counter(SMOTE_cat_Train_Y))\n"
   ]
  },
  {
   "attachments": {},
   "cell_type": "markdown",
   "metadata": {},
   "source": [
    "### Classify without SMOTE"
   ]
  },
  {
   "cell_type": "code",
   "execution_count": 21,
   "metadata": {},
   "outputs": [],
   "source": [
    "# instantiate the model (using the default parameters)\n",
    "NB = GaussianNB()\n",
    "\n",
    "# fit the model with data\n",
    "NB.fit(Train_X_Tfidf.toarray(), cat_Train_Y)\n",
    "\n",
    "##perform classification and prediction on samples in tf_test\n",
    "predicted_NB = NB.predict(Test_X_Tfidf.toarray())"
   ]
  },
  {
   "cell_type": "code",
   "execution_count": 22,
   "metadata": {},
   "outputs": [],
   "source": [
    "test['category'] = predicted_NB\n",
    "test.to_csv('./output//NaiveBayes_TFIDF.csv', index=False)"
   ]
  },
  {
   "attachments": {},
   "cell_type": "markdown",
   "metadata": {},
   "source": [
    "### Classify with SMOTE"
   ]
  },
  {
   "cell_type": "code",
   "execution_count": 12,
   "metadata": {},
   "outputs": [],
   "source": [
    "# instantiate the model (using the default parameters)\n",
    "SMOTE_NB = GaussianNB()\n",
    "\n",
    "# fit the model with data\n",
    "SMOTE_NB.fit(SMOTE_Train_X_Tfidf.toarray(), SMOTE_cat_Train_Y)\n",
    "\n",
    "##perform classification and prediction on samples in tf_test\n",
    "predicted_NB = SMOTE_NB.predict(Test_X_Tfidf.toarray())"
   ]
  },
  {
   "cell_type": "code",
   "execution_count": 13,
   "metadata": {},
   "outputs": [
    {
     "name": "stdout",
     "output_type": "stream",
     "text": [
      "Counter({'info_news': 1249, 'personal': 278, 'plan': 170, 'celebrity': 144, 'unrelated': 47, 'advice': 47, 'others': 28, 'requests': 14, 'rumors': 13, 'restrictions': 10})\n"
     ]
    }
   ],
   "source": [
    "print(Counter(predicted_NB))"
   ]
  },
  {
   "cell_type": "code",
   "execution_count": null,
   "metadata": {},
   "outputs": [],
   "source": []
  }
 ],
 "metadata": {
  "kernelspec": {
   "display_name": "base",
   "language": "python",
   "name": "python3"
  },
  "language_info": {
   "codemirror_mode": {
    "name": "ipython",
    "version": 3
   },
   "file_extension": ".py",
   "mimetype": "text/x-python",
   "name": "python",
   "nbconvert_exporter": "python",
   "pygments_lexer": "ipython3",
   "version": "3.9.13"
  },
  "orig_nbformat": 4,
  "vscode": {
   "interpreter": {
    "hash": "79fdc8352940022464368746d67d12dbc9a3740708d0e5e01c2eafb24b507835"
   }
  }
 },
 "nbformat": 4,
 "nbformat_minor": 2
}
