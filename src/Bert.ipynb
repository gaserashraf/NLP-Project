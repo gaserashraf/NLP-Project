{
 "cells": [
  {
   "cell_type": "code",
   "execution_count": 60,
   "metadata": {},
   "outputs": [],
   "source": [
    "import tensorflow as tf\n",
    "import tensorflow_hub as hub\n",
    "import tensorflow_text as text"
   ]
  },
  {
   "cell_type": "code",
   "execution_count": 61,
   "metadata": {},
   "outputs": [],
   "source": [
    "import pandas as pd\n",
    "train_data = pd.read_csv('../Dataset/cleaned_train.csv', encoding='utf-8')\n",
    "test_data = pd.read_csv('../Dataset/cleaned_dev.csv', encoding='utf-8')"
   ]
  },
  {
   "cell_type": "code",
   "execution_count": 62,
   "metadata": {},
   "outputs": [],
   "source": [
    "# from preprocessing import clean_data\n",
    "# train_data = clean_data(train_data)\n",
    "# test_data = clean_data(test_data)\n",
    "# # Save the data to a csv file\n",
    "# train_data.to_csv('../Dataset/cleaned_train.csv', index=False)\n",
    "# test_data.to_csv('../Dataset/cleaned_dev.csv', index=False)"
   ]
  },
  {
   "cell_type": "code",
   "execution_count": 63,
   "metadata": {},
   "outputs": [
    {
     "name": "stdout",
     "output_type": "stream",
     "text": [
      "0    بيل غيتس يتلقى لقاح تصوير الابرة السيرنجة الدو...\n",
      "1    وزير الصحة لحد اليوم وتحديدا هلأ بمؤتمروا الصح...\n",
      "2    قولكن رح يكونو اد المسؤولية لبنان يوصل اللقاح ...\n",
      "3    وزير الصحة فخر الدين قوجة يتلقى جرعة لقاح كورو...\n",
      "4    وئام وهاب يشتم الدول الخليجية طلة اعلامية ويتس...\n",
      "Name: text, dtype: object\n"
     ]
    }
   ],
   "source": [
    "print(train_data['text'].head(5))"
   ]
  },
  {
   "cell_type": "code",
   "execution_count": 64,
   "metadata": {},
   "outputs": [],
   "source": [
    "from sklearn.model_selection import train_test_split\n",
    "# Unpack the data into text, category and stance\n",
    "Train_X, Test_X, cat_Train_Y, cat_Test_Y, stance_Train_Y, stance_Test_Y = train_data['text'], test_data['text'], train_data['category'], test_data['category'], train_data['stance'], test_data['stance']\n"
   ]
  },
  {
   "cell_type": "code",
   "execution_count": 65,
   "metadata": {},
   "outputs": [],
   "source": [
    "bert_encode_url = 'https://tfhub.dev/tensorflow/bert_en_uncased_L-12_H-768_A-12/4'\n",
    "bert_preprocess_url='https://tfhub.dev/tensorflow/bert_en_uncased_preprocess/3'"
   ]
  },
  {
   "cell_type": "code",
   "execution_count": 66,
   "metadata": {},
   "outputs": [],
   "source": [
    "bert_proprocess=hub.KerasLayer(bert_preprocess_url)\n",
    "bert_encoder=hub.KerasLayer(bert_encode_url)"
   ]
  },
  {
   "cell_type": "code",
   "execution_count": 67,
   "metadata": {},
   "outputs": [],
   "source": [
    "from sklearn.metrics.pairwise import cosine_similarity\n",
    "# get the sentence embedding for the sentences\n",
    "text_input = tf.keras.layers.Input(shape=(), dtype=tf.string, name='text')\n",
    "# preprocessing the data using bert preprocess layer\n",
    "preprocessed_text=bert_proprocess(text_input)\n",
    "\n",
    "# get the bert encoder layer\n",
    "outputs = bert_encoder(preprocessed_text)\n",
    "\n",
    "# Nueral network layer\n",
    "l=tf.keras.layers.Dropout(0.1,name='dropout')(outputs['pooled_output'])\n",
    "l=tf.keras.layers.Dense(1, activation='sigmoid', name='output')(l)\n",
    "\n",
    "# construct final model\n",
    "model = tf.keras.Model(inputs=[text_input], outputs=[l])"
   ]
  },
  {
   "cell_type": "code",
   "execution_count": 68,
   "metadata": {},
   "outputs": [
    {
     "name": "stdout",
     "output_type": "stream",
     "text": [
      "Model: \"model_3\"\n",
      "__________________________________________________________________________________________________\n",
      " Layer (type)                   Output Shape         Param #     Connected to                     \n",
      "==================================================================================================\n",
      " text (InputLayer)              [(None,)]            0           []                               \n",
      "                                                                                                  \n",
      " keras_layer_4 (KerasLayer)     {'input_word_ids':   0           ['text[0][0]']                   \n",
      "                                (None, 128),                                                      \n",
      "                                 'input_type_ids':                                                \n",
      "                                (None, 128),                                                      \n",
      "                                 'input_mask': (Non                                               \n",
      "                                e, 128)}                                                          \n",
      "                                                                                                  \n",
      " keras_layer_5 (KerasLayer)     {'default': (None,   109482241   ['keras_layer_4[0][0]',          \n",
      "                                768),                             'keras_layer_4[0][1]',          \n",
      "                                 'pooled_output': (               'keras_layer_4[0][2]']          \n",
      "                                None, 768),                                                       \n",
      "                                 'encoder_outputs':                                               \n",
      "                                 [(None, 128, 768),                                               \n",
      "                                 (None, 128, 768),                                                \n",
      "                                 (None, 128, 768),                                                \n",
      "                                 (None, 128, 768),                                                \n",
      "                                 (None, 128, 768),                                                \n",
      "                                 (None, 128, 768),                                                \n",
      "                                 (None, 128, 768),                                                \n",
      "                                 (None, 128, 768),                                                \n",
      "                                 (None, 128, 768),                                                \n",
      "                                 (None, 128, 768),                                                \n",
      "                                 (None, 128, 768),                                                \n",
      "                                 (None, 128, 768)],                                               \n",
      "                                 'sequence_output':                                               \n",
      "                                 (None, 128, 768)}                                                \n",
      "                                                                                                  \n",
      " dropout (Dropout)              (None, 768)          0           ['keras_layer_5[0][13]']         \n",
      "                                                                                                  \n",
      " output (Dense)                 (None, 1)            769         ['dropout[0][0]']                \n",
      "                                                                                                  \n",
      "==================================================================================================\n",
      "Total params: 109,483,010\n",
      "Trainable params: 769\n",
      "Non-trainable params: 109,482,241\n",
      "__________________________________________________________________________________________________\n"
     ]
    }
   ],
   "source": [
    "model.summary()"
   ]
  },
  {
   "cell_type": "code",
   "execution_count": 70,
   "metadata": {},
   "outputs": [
    {
     "name": "stdout",
     "output_type": "stream",
     "text": [
      "Epoch 1/15\n",
      "219/219 [==============================] - 56s 244ms/step - loss: 0.5970 - accuracy: 0.7924 - precision: 0.8552 - recall: 0.9998\n",
      "Epoch 2/15\n",
      "219/219 [==============================] - 54s 245ms/step - loss: 0.5933 - accuracy: 0.7925 - precision: 0.8552 - recall: 1.0000\n",
      "Epoch 3/15\n",
      "219/219 [==============================] - 54s 248ms/step - loss: 0.5957 - accuracy: 0.7926 - precision: 0.8553 - recall: 1.0000\n",
      "Epoch 4/15\n",
      "219/219 [==============================] - 53s 244ms/step - loss: 0.5924 - accuracy: 0.7924 - precision: 0.8552 - recall: 0.9998\n",
      "Epoch 5/15\n",
      "219/219 [==============================] - 53s 244ms/step - loss: 0.5913 - accuracy: 0.7924 - precision: 0.8552 - recall: 0.9998\n",
      "Epoch 6/15\n",
      "219/219 [==============================] - 53s 244ms/step - loss: 0.5908 - accuracy: 0.7925 - precision: 0.8552 - recall: 1.0000\n",
      "Epoch 7/15\n",
      "219/219 [==============================] - 54s 246ms/step - loss: 0.5898 - accuracy: 0.7925 - precision: 0.8552 - recall: 1.0000\n",
      "Epoch 8/15\n",
      "219/219 [==============================] - 53s 244ms/step - loss: 0.5927 - accuracy: 0.7925 - precision: 0.8552 - recall: 1.0000\n",
      "Epoch 9/15\n",
      "219/219 [==============================] - 53s 244ms/step - loss: 0.5917 - accuracy: 0.7925 - precision: 0.8552 - recall: 1.0000\n",
      "Epoch 10/15\n",
      "219/219 [==============================] - 54s 244ms/step - loss: 0.5919 - accuracy: 0.7925 - precision: 0.8552 - recall: 1.0000\n",
      "Epoch 11/15\n",
      "219/219 [==============================] - 53s 243ms/step - loss: 0.5885 - accuracy: 0.7925 - precision: 0.8552 - recall: 1.0000\n",
      "Epoch 12/15\n",
      "219/219 [==============================] - 54s 245ms/step - loss: 0.5884 - accuracy: 0.7925 - precision: 0.8552 - recall: 1.0000\n",
      "Epoch 13/15\n",
      "219/219 [==============================] - 54s 245ms/step - loss: 0.5843 - accuracy: 0.7926 - precision: 0.8553 - recall: 1.0000\n",
      "Epoch 14/15\n",
      "219/219 [==============================] - 53s 244ms/step - loss: 0.5881 - accuracy: 0.7924 - precision: 0.8552 - recall: 0.9998\n",
      "Epoch 15/15\n",
      "219/219 [==============================] - 54s 248ms/step - loss: 0.5876 - accuracy: 0.7924 - precision: 0.8552 - recall: 0.9998\n"
     ]
    }
   ],
   "source": [
    "METRICS=[tf.keras.metrics.BinaryAccuracy(name='accuracy'),tf.keras.metrics.Precision(name='precision'),tf.keras.metrics.Recall(name='recall')]\n",
    "\n",
    "model.compile(optimizer=tf.keras.optimizers.Adam(learning_rate=1e-5),loss=tf.keras.losses.BinaryCrossentropy(from_logits=True),metrics=METRICS)\n",
    "history = model.fit(Train_X,stance_Train_Y,epochs=15)\n"
   ]
  },
  {
   "cell_type": "code",
   "execution_count": 71,
   "metadata": {},
   "outputs": [
    {
     "name": "stdout",
     "output_type": "stream",
     "text": [
      "32/32 [==============================] - 9s 240ms/step - loss: 0.5758 - accuracy: 0.8040 - precision: 0.8740 - recall: 1.0000\n"
     ]
    },
    {
     "data": {
      "text/plain": [
       "[0.5758407115936279, 0.8040000200271606, 0.8740000128746033, 1.0]"
      ]
     },
     "execution_count": 71,
     "metadata": {},
     "output_type": "execute_result"
    }
   ],
   "source": [
    "model.evaluate(Test_X,stance_Test_Y)"
   ]
  },
  {
   "cell_type": "code",
   "execution_count": 74,
   "metadata": {},
   "outputs": [
    {
     "name": "stdout",
     "output_type": "stream",
     "text": [
      "0       1\n",
      "1       1\n",
      "2       1\n",
      "3       1\n",
      "4       0\n",
      "       ..\n",
      "6983    1\n",
      "6984    0\n",
      "6985    1\n",
      "6986    1\n",
      "6987    1\n",
      "Name: stance, Length: 6988, dtype: int64\n"
     ]
    }
   ],
   "source": [
    "# f1 score for the model\n",
    "# predict the stance for the test data\n",
    "# pred = model.predict(Test_X)\n",
    "print(stance_Train_Y)\n"
   ]
  },
  {
   "cell_type": "code",
   "execution_count": null,
   "metadata": {},
   "outputs": [],
   "source": []
  }
 ],
 "metadata": {
  "kernelspec": {
   "display_name": "base",
   "language": "python",
   "name": "python3"
  },
  "language_info": {
   "codemirror_mode": {
    "name": "ipython",
    "version": 3
   },
   "file_extension": ".py",
   "mimetype": "text/x-python",
   "name": "python",
   "nbconvert_exporter": "python",
   "pygments_lexer": "ipython3",
   "version": "3.9.13 (main, Aug 25 2022, 23:51:50) [MSC v.1916 64 bit (AMD64)]"
  },
  "orig_nbformat": 4,
  "vscode": {
   "interpreter": {
    "hash": "79fdc8352940022464368746d67d12dbc9a3740708d0e5e01c2eafb24b507835"
   }
  }
 },
 "nbformat": 4,
 "nbformat_minor": 2
}
