{
 "cells": [
  {
   "cell_type": "code",
   "execution_count": 1,
   "metadata": {},
   "outputs": [],
   "source": [
    "import pandas as pd\n",
    "import numpy as np\n",
    "from preprocessing import *\n",
    "from sklearn.feature_extraction.text import TfidfVectorizer\n",
    "from sklearn import model_selection, naive_bayes, svm\n",
    "from sklearn.metrics import accuracy_score\n",
    "from sklearn.preprocessing import LabelEncoder\n",
    "from sklearn.metrics import classification_report\n"
   ]
  },
  {
   "attachments": {},
   "cell_type": "markdown",
   "metadata": {},
   "source": [
    "# SVM Classifier with TF-IDF"
   ]
  },
  {
   "attachments": {},
   "cell_type": "markdown",
   "metadata": {},
   "source": [
    "### Read the data"
   ]
  },
  {
   "cell_type": "code",
   "execution_count": 2,
   "metadata": {},
   "outputs": [],
   "source": [
    "##############For Training Data#####################\n",
    "# Read the data from the csv file named 'preprocessedData.csv' arabic data\n",
    "train = pd.read_csv('../Dataset/cleaned_train.csv', encoding='utf-8')\n",
    "# Unpack the data into text and stance\n",
    "Train_X = train['text']\n",
    "stance_Train_Y = train['stance']\n",
    "cat_Train_Y = train['category']\n",
    "\n",
    "##############For Testing Data#####################\n",
    "test = pd.read_csv('../Dataset/cleaned_dev.csv', encoding='utf-8')\n",
    "# Perform the data preprocessing\n",
    "test = clean_data(test)\n",
    "# Unpack the data into text, and stance\n",
    "Test_X = test['text']\n",
    "stance_Test_Y = test['stance']\n",
    "cat_Test_Y = test['category']\n"
   ]
  },
  {
   "attachments": {},
   "cell_type": "markdown",
   "metadata": {},
   "source": [
    "### Build the TFIDF"
   ]
  },
  {
   "cell_type": "code",
   "execution_count": 3,
   "metadata": {},
   "outputs": [],
   "source": [
    "# Here we want to calculate the TF-IDF score for each word in the corpus\n",
    "\n",
    "Tfidf_vect = TfidfVectorizer(max_features=27000)\n",
    "Tfidf_vect.fit(train['text'])\n",
    "Train_X_Tfidf = Tfidf_vect.transform(Train_X)\n",
    "Test_X_Tfidf = Tfidf_vect.transform(Test_X)\n"
   ]
  },
  {
   "attachments": {},
   "cell_type": "markdown",
   "metadata": {},
   "source": [
    "## For Stance Classification"
   ]
  },
  {
   "attachments": {},
   "cell_type": "markdown",
   "metadata": {},
   "source": [
    "### Apply SMOTE to the training data to balance the classes"
   ]
  },
  {
   "cell_type": "code",
   "execution_count": 4,
   "metadata": {},
   "outputs": [
    {
     "name": "stdout",
     "output_type": "stream",
     "text": [
      "0.10.0\n",
      "Counter({1: 5538, 0: 1012, -1: 438})\n",
      "Counter({1: 5538, 0: 5538, -1: 5538})\n"
     ]
    }
   ],
   "source": [
    "# Here we want to apply SMOTE to the data to balance the data against 3 classes\n",
    "# check version number\n",
    "import imblearn\n",
    "print(imblearn.__version__)\n",
    "# Count the number of each class\n",
    "from collections import Counter\n",
    "from imblearn.over_sampling import SMOTE\n",
    "print(Counter(stance_Train_Y))\n",
    "# transform the dataset\n",
    "oversample = SMOTE()\n",
    "SMOTE_Train_X_Tfidf, SMOTE_stance_Train_Y = oversample.fit_resample(Train_X_Tfidf, stance_Train_Y)\n",
    "print(Counter(SMOTE_stance_Train_Y))\n"
   ]
  },
  {
   "attachments": {},
   "cell_type": "markdown",
   "metadata": {},
   "source": [
    "### Classify without SMOTE"
   ]
  },
  {
   "cell_type": "code",
   "execution_count": 10,
   "metadata": {},
   "outputs": [
    {
     "name": "stdout",
     "output_type": "stream",
     "text": [
      "              precision    recall  f1-score   support\n",
      "\n",
      "          -1       0.16      0.55      0.24        20\n",
      "           0       0.17      0.53      0.25        40\n",
      "           1       0.98      0.84      0.90       940\n",
      "\n",
      "    accuracy                           0.82      1000\n",
      "   macro avg       0.43      0.64      0.47      1000\n",
      "weighted avg       0.93      0.82      0.86      1000\n",
      "\n"
     ]
    }
   ],
   "source": [
    "# Classifier - Algorithm - SVM\n",
    "# fit the training dataset on the classifier\n",
    "# What is the best kernel for SVM in the case of multi-class classification? - Quora\n",
    "SVM = svm.SVC(C=1.0, kernel='linear', degree=3, gamma='auto')\n",
    "SVM.fit(Train_X_Tfidf,stance_Train_Y)\n",
    "# predict the labels on validation dataset\n",
    "predictions_SVM = SVM.predict(Test_X_Tfidf)\n",
    "# Use accuracy_score function to get the accuracy\n",
    "print(classification_report(predictions_SVM, stance_Test_Y))"
   ]
  },
  {
   "attachments": {},
   "cell_type": "markdown",
   "metadata": {},
   "source": [
    "### Classify with SMOTE"
   ]
  },
  {
   "cell_type": "code",
   "execution_count": 11,
   "metadata": {},
   "outputs": [
    {
     "name": "stdout",
     "output_type": "stream",
     "text": [
      "              precision    recall  f1-score   support\n",
      "\n",
      "          -1       0.30      0.41      0.35        51\n",
      "           0       0.40      0.42      0.41       120\n",
      "           1       0.90      0.88      0.89       829\n",
      "\n",
      "    accuracy                           0.80      1000\n",
      "   macro avg       0.54      0.57      0.55      1000\n",
      "weighted avg       0.81      0.80      0.81      1000\n",
      "\n"
     ]
    }
   ],
   "source": [
    "# Classifier - Algorithm - SVM\n",
    "# fit the training dataset on the classifier\n",
    "# What is the best kernel for SVM in the case of multi-class classification? - Quora\n",
    "SMOTE_SVM = svm.SVC(C=1.0, kernel='linear', degree=3, gamma='auto')\n",
    "SMOTE_SVM.fit(SMOTE_Train_X_Tfidf,SMOTE_stance_Train_Y)\n",
    "# predict the labels on validation dataset\n",
    "predictions_SMOTE_SVM = SMOTE_SVM.predict(Test_X_Tfidf)\n",
    "# Use accuracy_score function to get the accuracy\n",
    "print(classification_report(predictions_SMOTE_SVM, stance_Test_Y))"
   ]
  },
  {
   "attachments": {},
   "cell_type": "markdown",
   "metadata": {},
   "source": [
    "## For Category Classification"
   ]
  },
  {
   "attachments": {},
   "cell_type": "markdown",
   "metadata": {},
   "source": [
    "### Apply SMOTE to the training data to balance the classes"
   ]
  },
  {
   "cell_type": "code",
   "execution_count": 12,
   "metadata": {},
   "outputs": [
    {
     "name": "stdout",
     "output_type": "stream",
     "text": [
      "0.10.0\n",
      "Counter({'info_news': 3616, 'personal': 1025, 'celebrity': 975, 'plan': 606, 'unrelated': 323, 'others': 167, 'requests': 112, 'rumors': 79, 'advice': 67, 'restrictions': 18})\n",
      "Counter({'celebrity': 3616, 'info_news': 3616, 'personal': 3616, 'unrelated': 3616, 'plan': 3616, 'requests': 3616, 'others': 3616, 'rumors': 3616, 'advice': 3616, 'restrictions': 3616})\n"
     ]
    }
   ],
   "source": [
    "# Here we want to apply SMOTE to the data to balance the data against 3 classes\n",
    "# check version number\n",
    "import imblearn\n",
    "print(imblearn.__version__)\n",
    "# Count the number of each class\n",
    "from collections import Counter\n",
    "from imblearn.over_sampling import SMOTE\n",
    "print(Counter(cat_Train_Y))\n",
    "# transform the dataset\n",
    "oversample = SMOTE()\n",
    "SMOTE_Train_X_Tfidf, SMOTE_cat_Train_Y = oversample.fit_resample(Train_X_Tfidf, cat_Train_Y)\n",
    "print(Counter(SMOTE_cat_Train_Y))\n"
   ]
  },
  {
   "attachments": {},
   "cell_type": "markdown",
   "metadata": {},
   "source": [
    "### Classify without SMOTE"
   ]
  },
  {
   "cell_type": "code",
   "execution_count": 13,
   "metadata": {},
   "outputs": [
    {
     "name": "stdout",
     "output_type": "stream",
     "text": [
      "              precision    recall  f1-score   support\n",
      "\n",
      "      advice       0.00      0.00      0.00         0\n",
      "   celebrity       0.77      0.87      0.82       129\n",
      "   info_news       0.91      0.68      0.78       735\n",
      "      others       0.00      0.00      0.00         1\n",
      "    personal       0.50      0.58      0.54       110\n",
      "        plan       0.01      0.17      0.02         6\n",
      "    requests       0.05      0.50      0.09         2\n",
      "restrictions       0.00      0.00      0.00         0\n",
      "      rumors       0.00      0.00      0.00         1\n",
      "   unrelated       0.25      0.56      0.35        16\n",
      "\n",
      "    accuracy                           0.68      1000\n",
      "   macro avg       0.25      0.34      0.26      1000\n",
      "weighted avg       0.83      0.68      0.74      1000\n",
      "\n"
     ]
    },
    {
     "name": "stderr",
     "output_type": "stream",
     "text": [
      "c:\\Users\\osama\\anaconda3\\lib\\site-packages\\sklearn\\metrics\\_classification.py:1318: UndefinedMetricWarning: Recall and F-score are ill-defined and being set to 0.0 in labels with no true samples. Use `zero_division` parameter to control this behavior.\n",
      "  _warn_prf(average, modifier, msg_start, len(result))\n",
      "c:\\Users\\osama\\anaconda3\\lib\\site-packages\\sklearn\\metrics\\_classification.py:1318: UndefinedMetricWarning: Recall and F-score are ill-defined and being set to 0.0 in labels with no true samples. Use `zero_division` parameter to control this behavior.\n",
      "  _warn_prf(average, modifier, msg_start, len(result))\n",
      "c:\\Users\\osama\\anaconda3\\lib\\site-packages\\sklearn\\metrics\\_classification.py:1318: UndefinedMetricWarning: Recall and F-score are ill-defined and being set to 0.0 in labels with no true samples. Use `zero_division` parameter to control this behavior.\n",
      "  _warn_prf(average, modifier, msg_start, len(result))\n"
     ]
    }
   ],
   "source": [
    "# Classifier - Algorithm - SVM\n",
    "# fit the training dataset on the classifier\n",
    "# What is the best kernel for SVM in the case of multi-class classification? - Quora\n",
    "SVM = svm.SVC(C=1.0, kernel='linear', degree=3, gamma='auto')\n",
    "SVM.fit(Train_X_Tfidf,cat_Train_Y)\n",
    "# predict the labels on validation dataset\n",
    "predictions_SVM = SVM.predict(Test_X_Tfidf)\n",
    "# Use accuracy_score function to get the accuracy\n",
    "print(classification_report(predictions_SVM, cat_Test_Y))"
   ]
  },
  {
   "attachments": {},
   "cell_type": "markdown",
   "metadata": {},
   "source": [
    "### Classify with SMOTE"
   ]
  },
  {
   "cell_type": "code",
   "execution_count": 14,
   "metadata": {},
   "outputs": [
    {
     "name": "stdout",
     "output_type": "stream",
     "text": [
      "              precision    recall  f1-score   support\n",
      "\n",
      "      advice       0.20      0.50      0.29         4\n",
      "   celebrity       0.81      0.83      0.82       143\n",
      "   info_news       0.72      0.72      0.72       547\n",
      "      others       0.00      0.00      0.00         6\n",
      "    personal       0.61      0.55      0.58       143\n",
      "        plan       0.28      0.21      0.24       107\n",
      "    requests       0.15      0.16      0.15        19\n",
      "restrictions       0.50      0.33      0.40         3\n",
      "      rumors       0.00      0.00      0.00         2\n",
      "   unrelated       0.31      0.42      0.35        26\n",
      "\n",
      "    accuracy                           0.63      1000\n",
      "   macro avg       0.36      0.37      0.36      1000\n",
      "weighted avg       0.64      0.63      0.63      1000\n",
      "\n"
     ]
    }
   ],
   "source": [
    "# Classifier - Algorithm - SVM\n",
    "# fit the training dataset on the classifier\n",
    "# What is the best kernel for SVM in the case of multi-class classification? - Quora\n",
    "SMOTE_SVM = svm.SVC(C=1.0, kernel='linear', degree=3, gamma='auto')\n",
    "SMOTE_SVM.fit(SMOTE_Train_X_Tfidf,SMOTE_cat_Train_Y)\n",
    "# predict the labels on validation dataset\n",
    "predictions_SMOTE_SVM = SMOTE_SVM.predict(Test_X_Tfidf)\n",
    "# Use accuracy_score function to get the accuracy\n",
    "print(classification_report(predictions_SMOTE_SVM, cat_Test_Y))"
   ]
  },
  {
   "cell_type": "code",
   "execution_count": null,
   "metadata": {},
   "outputs": [],
   "source": []
  }
 ],
 "metadata": {
  "kernelspec": {
   "display_name": "base",
   "language": "python",
   "name": "python3"
  },
  "language_info": {
   "codemirror_mode": {
    "name": "ipython",
    "version": 3
   },
   "file_extension": ".py",
   "mimetype": "text/x-python",
   "name": "python",
   "nbconvert_exporter": "python",
   "pygments_lexer": "ipython3",
   "version": "3.9.13 (main, Aug 25 2022, 23:51:50) [MSC v.1916 64 bit (AMD64)]"
  },
  "orig_nbformat": 4,
  "vscode": {
   "interpreter": {
    "hash": "79fdc8352940022464368746d67d12dbc9a3740708d0e5e01c2eafb24b507835"
   }
  }
 },
 "nbformat": 4,
 "nbformat_minor": 2
}
