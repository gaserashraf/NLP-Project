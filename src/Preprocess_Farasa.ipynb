{
 "cells": [
  {
   "cell_type": "code",
   "execution_count": 3,
   "metadata": {},
   "outputs": [],
   "source": [
    "import pandas as pd\n",
    "from preprocessing import *"
   ]
  },
  {
   "cell_type": "code",
   "execution_count": 4,
   "metadata": {},
   "outputs": [],
   "source": [
    "data = pd.read_csv('../Dataset/test.csv', encoding='utf-8')"
   ]
  },
  {
   "cell_type": "code",
   "execution_count": 7,
   "metadata": {},
   "outputs": [],
   "source": [
    "cleaned_data = clean_data(data,True)"
   ]
  },
  {
   "cell_type": "code",
   "execution_count": 8,
   "metadata": {},
   "outputs": [
    {
     "data": {
      "text/html": [
       "<div>\n",
       "<style scoped>\n",
       "    .dataframe tbody tr th:only-of-type {\n",
       "        vertical-align: middle;\n",
       "    }\n",
       "\n",
       "    .dataframe tbody tr th {\n",
       "        vertical-align: top;\n",
       "    }\n",
       "\n",
       "    .dataframe thead th {\n",
       "        text-align: right;\n",
       "    }\n",
       "</style>\n",
       "<table border=\"1\" class=\"dataframe\">\n",
       "  <thead>\n",
       "    <tr style=\"text-align: right;\">\n",
       "      <th></th>\n",
       "      <th>id</th>\n",
       "      <th>text</th>\n",
       "    </tr>\n",
       "  </thead>\n",
       "  <tbody>\n",
       "    <tr>\n",
       "      <th>0</th>\n",
       "      <td>0</td>\n",
       "      <td>بيل غيتس أعلن تلقي جرعة أول لقاح ضد فيروس قال ...</td>\n",
       "    </tr>\n",
       "    <tr>\n",
       "      <th>1</th>\n",
       "      <td>1</td>\n",
       "      <td>محتاج لقاح قاوم إفراط تفكير</td>\n",
       "    </tr>\n",
       "    <tr>\n",
       "      <th>2</th>\n",
       "      <td>2</td>\n",
       "      <td>إحنا أخلى لقاح فايزر أمريكي مسؤول كبير شخصية ر...</td>\n",
       "    </tr>\n",
       "    <tr>\n",
       "      <th>3</th>\n",
       "      <td>3</td>\n",
       "      <td>متحدث صحة لقاح كورونا شرط سماح سفر خارج</td>\n",
       "    </tr>\n",
       "    <tr>\n",
       "      <th>4</th>\n",
       "      <td>4</td>\n",
       "      <td>جرعة لقاح تم تقديم خلال ال ساعة ماضي بلغ عدد ج...</td>\n",
       "    </tr>\n",
       "    <tr>\n",
       "      <th>...</th>\n",
       "      <td>...</td>\n",
       "      <td>...</td>\n",
       "    </tr>\n",
       "    <tr>\n",
       "      <th>1995</th>\n",
       "      <td>1995</td>\n",
       "      <td>قال رئيس لجنة تنفيذ أمر إمام خميني رض كورونا د...</td>\n",
       "    </tr>\n",
       "    <tr>\n",
       "      <th>1996</th>\n",
       "      <td>1996</td>\n",
       "      <td>حمد الله أخذ يوم جرعة أول جهد جبار قام قام شكر...</td>\n",
       "    </tr>\n",
       "    <tr>\n",
       "      <th>1997</th>\n",
       "      <td>1997</td>\n",
       "      <td>دولة ناجح ميدان بحث علمي صنع لقاح أمريكا بريطا...</td>\n",
       "    </tr>\n",
       "    <tr>\n",
       "      <th>1998</th>\n",
       "      <td>1998</td>\n",
       "      <td>مبروك نصر خير غير هلال غض نظر تفصيل مباراة فري...</td>\n",
       "    </tr>\n",
       "    <tr>\n",
       "      <th>1999</th>\n",
       "      <td>1999</td>\n",
       "      <td>أطل فجر من اعتذر ارتكاب ذنب مجيء مضى نهار نهار...</td>\n",
       "    </tr>\n",
       "  </tbody>\n",
       "</table>\n",
       "<p>2000 rows × 2 columns</p>\n",
       "</div>"
      ],
      "text/plain": [
       "        id                                               text\n",
       "0        0  بيل غيتس أعلن تلقي جرعة أول لقاح ضد فيروس قال ...\n",
       "1        1                        محتاج لقاح قاوم إفراط تفكير\n",
       "2        2  إحنا أخلى لقاح فايزر أمريكي مسؤول كبير شخصية ر...\n",
       "3        3            متحدث صحة لقاح كورونا شرط سماح سفر خارج\n",
       "4        4  جرعة لقاح تم تقديم خلال ال ساعة ماضي بلغ عدد ج...\n",
       "...    ...                                                ...\n",
       "1995  1995  قال رئيس لجنة تنفيذ أمر إمام خميني رض كورونا د...\n",
       "1996  1996  حمد الله أخذ يوم جرعة أول جهد جبار قام قام شكر...\n",
       "1997  1997  دولة ناجح ميدان بحث علمي صنع لقاح أمريكا بريطا...\n",
       "1998  1998  مبروك نصر خير غير هلال غض نظر تفصيل مباراة فري...\n",
       "1999  1999  أطل فجر من اعتذر ارتكاب ذنب مجيء مضى نهار نهار...\n",
       "\n",
       "[2000 rows x 2 columns]"
      ]
     },
     "execution_count": 8,
     "metadata": {},
     "output_type": "execute_result"
    }
   ],
   "source": [
    "cleaned_data"
   ]
  },
  {
   "cell_type": "code",
   "execution_count": 12,
   "metadata": {},
   "outputs": [],
   "source": [
    "import csv\n",
    "\n",
    "fields = ['id', 'text']\n",
    "\n",
    "filename = \"../Dataset/cleaned_test_farasa.csv\"\n",
    "\n",
    "\n",
    "with open(filename, 'w',encoding='utf-8') as csvfile:\n",
    "    csvwriter = csv.writer(csvfile)\n",
    "    csvwriter.writerow(fields)\n",
    "\n",
    "    for index, row in cleaned_data.iterrows():\n",
    "        csvwriter.writerow([row['id'], row['text']])"
   ]
  },
  {
   "cell_type": "code",
   "execution_count": null,
   "metadata": {},
   "outputs": [],
   "source": []
  }
 ],
 "metadata": {
  "kernelspec": {
   "display_name": "Python 3",
   "language": "python",
   "name": "python3"
  },
  "language_info": {
   "codemirror_mode": {
    "name": "ipython",
    "version": 3
   },
   "file_extension": ".py",
   "mimetype": "text/x-python",
   "name": "python",
   "nbconvert_exporter": "python",
   "pygments_lexer": "ipython3",
   "version": "3.10.4"
  },
  "orig_nbformat": 4,
  "vscode": {
   "interpreter": {
    "hash": "369f2c481f4da34e4445cda3fffd2e751bd1c4d706f27375911949ba6bb62e1c"
   }
  }
 },
 "nbformat": 4,
 "nbformat_minor": 2
}
