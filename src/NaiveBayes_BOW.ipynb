{
 "cells": [
  {
   "cell_type": "code",
   "execution_count": 2,
   "metadata": {},
   "outputs": [],
   "source": [
    "import pandas as pd\n",
    "import numpy as np\n",
    "from preprocessing import *\n",
    "from sklearn.metrics import accuracy_score\n",
    "import matplotlib.pyplot as plt\n",
    "from sklearn.naive_bayes import GaussianNB\n",
    "from sklearn.metrics import classification_report"
   ]
  },
  {
   "attachments": {},
   "cell_type": "markdown",
   "metadata": {},
   "source": [
    "# Naive Bayes Classifier with Bag Of Words"
   ]
  },
  {
   "cell_type": "code",
   "execution_count": 3,
   "metadata": {},
   "outputs": [],
   "source": [
    "##############For Training Data#####################\n",
    "# Read the data from the csv file named 'preprocessedData.csv' arabic data\n",
    "train = pd.read_csv('../Dataset/train.csv', encoding='utf-8')\n",
    "# Perform the data preprocessing\n",
    "train = clean_data(train)\n",
    "# Unpack the data into text and stance\n",
    "Train_X = train['text']\n",
    "Train_Y = train['stance']\n",
    "\n",
    "# Tokenize the data into words as Skip-Gram model requires a list of words as input\n",
    "Train_X = [x.split(\" \") for x in Train_X]\n",
    "arr = []\n",
    "for i in range(len(Train_X)):\n",
    "    # join the words in the list to form a sentence\n",
    "    arr.append(\" \".join(Train_X[i]))\n",
    "Train_X = arr\n",
    "\n",
    "##############For Testing Data#####################\n",
    "test = pd.read_csv('../Dataset/dev.csv', encoding='utf-8')\n",
    "# Perform the data preprocessing\n",
    "test = clean_data(test)\n",
    "# Unpack the data into text, and stance\n",
    "Test_X = test['text']\n",
    "Test_Y = test['stance']\n",
    "# Tokenize the data into words as Skip-Gram model requires a list of words as input\n",
    "Test_X = [x.split(\" \") for x in Test_X]\n",
    "arr = []\n",
    "for i in range(len(Test_X)):\n",
    "    # join the words in the list to form a sentence\n",
    "    arr.append(\" \".join(Test_X[i]))\n",
    "Test_X = arr\n"
   ]
  },
  {
   "cell_type": "code",
   "execution_count": 4,
   "metadata": {},
   "outputs": [],
   "source": [
    "from sklearn.feature_extraction.text import CountVectorizer\n",
    "\n",
    "#Assigning CountVectorizer to variable\n",
    "count_vect = CountVectorizer().fit(Train_X)\n",
    "\n",
    "#Fitting and transforming input data\n",
    "bow_train = count_vect.transform(Train_X).toarray()\n",
    "bow_test = count_vect.transform(Test_X).toarray()"
   ]
  },
  {
   "cell_type": "code",
   "execution_count": 5,
   "metadata": {},
   "outputs": [
    {
     "name": "stdout",
     "output_type": "stream",
     "text": [
      "              precision    recall  f1-score   support\n",
      "\n",
      "          -1       0.17      0.20      0.19        70\n",
      "           0       0.25      0.28      0.26       126\n",
      "           1       0.84      0.82      0.83       804\n",
      "\n",
      "    accuracy                           0.70      1000\n",
      "   macro avg       0.42      0.43      0.43      1000\n",
      "weighted avg       0.72      0.70      0.71      1000\n",
      "\n"
     ]
    }
   ],
   "source": [
    "# instantiate the model (using the default parameters)\n",
    "NB = GaussianNB()\n",
    "\n",
    "# fit the model with data\n",
    "NB.fit(bow_train, Train_Y)\n",
    "\n",
    "##perform classification and prediction on samples in tf_test\n",
    "predicted_NB = NB.predict(bow_test)\n",
    "print(classification_report(Test_Y, predicted_NB))"
   ]
  },
  {
   "cell_type": "code",
   "execution_count": 7,
   "metadata": {},
   "outputs": [
    {
     "name": "stdout",
     "output_type": "stream",
     "text": [
      "Naive Bayes Accuracy Score ->  70.5\n",
      "حظر خامنئي المجرم شراء يعد مجزرة متعمدة بحق الشعب الإيراني نقل موقع مريم رجوي موقف رئيسة الجمهورية المنتخبة للمقاومة الإيرانية تصريحات خامنئي المجرم حول حظر استيراد لقاح كورونا الولايات المتحدة بريطانيا فرنسا\n",
      "1\n",
      "1\n"
     ]
    }
   ],
   "source": [
    "print(\"Naive Bayes Accuracy Score -> \",accuracy_score(predicted_NB, Test_Y)*100)\n",
    "print(Test_X[0])\n",
    "print(Test_Y[0])\n",
    "print(predicted_NB[0])"
   ]
  }
 ],
 "metadata": {
  "kernelspec": {
   "display_name": "Python 3",
   "language": "python",
   "name": "python3"
  },
  "language_info": {
   "codemirror_mode": {
    "name": "ipython",
    "version": 3
   },
   "file_extension": ".py",
   "mimetype": "text/x-python",
   "name": "python",
   "nbconvert_exporter": "python",
   "pygments_lexer": "ipython3",
   "version": "3.8.3"
  },
  "orig_nbformat": 4,
  "vscode": {
   "interpreter": {
    "hash": "9650cb4e16cdd4a8e8e2d128bf38d875813998db22a3c986335f89e0cb4d7bb2"
   }
  }
 },
 "nbformat": 4,
 "nbformat_minor": 2
}
