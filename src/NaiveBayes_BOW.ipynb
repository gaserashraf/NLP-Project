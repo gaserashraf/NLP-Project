{
 "cells": [
  {
   "cell_type": "code",
   "execution_count": 20,
   "metadata": {},
   "outputs": [],
   "source": [
    "import pandas as pd\n",
    "import numpy as np\n",
    "from preprocessing import *\n",
    "from sklearn.metrics import accuracy_score\n",
    "import matplotlib.pyplot as plt\n",
    "from sklearn.naive_bayes import GaussianNB\n",
    "from sklearn.metrics import classification_report"
   ]
  },
  {
   "attachments": {},
   "cell_type": "markdown",
   "metadata": {},
   "source": [
    "# Naive Bayes Classifier with Bag Of Words"
   ]
  },
  {
   "attachments": {},
   "cell_type": "markdown",
   "metadata": {},
   "source": [
    "### Read The data"
   ]
  },
  {
   "cell_type": "code",
   "execution_count": 21,
   "metadata": {},
   "outputs": [],
   "source": [
    "##############For Training Data#####################\n",
    "# Read the data from the csv file named 'preprocessedData.csv' arabic data\n",
    "train = pd.read_csv('../Dataset/cleaned_train.csv', encoding='utf-8')\n",
    "# Unpack the data into text and stance\n",
    "Train_X = train['text']\n",
    "stance_Train_Y = train['stance']\n",
    "cat_Train_Y = train['category']\n",
    "\n",
    "##############For Testing Data#####################\n",
    "test = pd.read_csv('../Dataset/cleaned_dev.csv', encoding='utf-8')\n",
    "# Perform the data preprocessing\n",
    "test = clean_data(test)\n",
    "# Unpack the data into text, and stance\n",
    "Test_X = test['text']\n",
    "stance_Test_Y = test['stance']\n",
    "cat_Test_Y = test['category']\n"
   ]
  },
  {
   "attachments": {},
   "cell_type": "markdown",
   "metadata": {},
   "source": [
    "### Build the BOW "
   ]
  },
  {
   "cell_type": "code",
   "execution_count": 22,
   "metadata": {},
   "outputs": [],
   "source": [
    "from sklearn.feature_extraction.text import CountVectorizer\n",
    "\n",
    "#Assigning CountVectorizer to tvariable\n",
    "count_vect = CountVectorizer().fit(Train_X)\n",
    "\n",
    "#Fitting and transforming input data\n",
    "Train_X_BOW = count_vect.transform(Train_X).toarray()\n",
    "Test_X_BOW = count_vect.transform(Test_X).toarray()"
   ]
  },
  {
   "cell_type": "code",
   "execution_count": 24,
   "metadata": {},
   "outputs": [
    {
     "name": "stdout",
     "output_type": "stream",
     "text": [
      "Train_X_BOW:  [[0 0 0 ... 0 0 0]\n",
      " [0 0 0 ... 0 0 0]\n",
      " [0 0 0 ... 0 0 0]\n",
      " ...\n",
      " [0 0 0 ... 0 0 0]\n",
      " [0 0 0 ... 0 0 0]\n",
      " [0 0 0 ... 0 0 0]]\n"
     ]
    }
   ],
   "source": [
    "print(\"Train_X_BOW: \", Train_X_BOW)\n",
    "# Save the BOW representation of the data to a csv file\n",
    "np.savetxt(\"Train_X_BOW.csv\", Train_X_BOW, delimiter=\",\")"
   ]
  },
  {
   "attachments": {},
   "cell_type": "markdown",
   "metadata": {},
   "source": [
    "## For Stance Classification"
   ]
  },
  {
   "attachments": {},
   "cell_type": "markdown",
   "metadata": {},
   "source": [
    "### Apply SMOTE to the training data to balance the classes"
   ]
  },
  {
   "cell_type": "code",
   "execution_count": 5,
   "metadata": {},
   "outputs": [
    {
     "name": "stdout",
     "output_type": "stream",
     "text": [
      "0.10.0\n",
      "Counter({1: 5538, 0: 1012, -1: 438})\n",
      "Counter({1: 5538, 0: 5538, -1: 5538})\n"
     ]
    }
   ],
   "source": [
    "# Here we want to apply SMOTE to the data to balance the data against 3 classes\n",
    "# check version number\n",
    "import imblearn\n",
    "print(imblearn.__version__)\n",
    "# Count the number of each class\n",
    "from collections import Counter\n",
    "from imblearn.over_sampling import SMOTE\n",
    "print(Counter(stance_Train_Y))\n",
    "# transform the dataset\n",
    "oversample = SMOTE()\n",
    "SMOTE_Train_X_BOW, SMOTE_stance_Train_Y = oversample.fit_resample(Train_X_BOW, stance_Train_Y)\n",
    "print(Counter(SMOTE_stance_Train_Y))\n"
   ]
  },
  {
   "attachments": {},
   "cell_type": "markdown",
   "metadata": {},
   "source": [
    "### Classify without SMOTE"
   ]
  },
  {
   "cell_type": "code",
   "execution_count": 7,
   "metadata": {},
   "outputs": [
    {
     "name": "stdout",
     "output_type": "stream",
     "text": [
      "              precision    recall  f1-score   support\n",
      "\n",
      "          -1       0.17      0.20      0.19        70\n",
      "           0       0.25      0.28      0.26       126\n",
      "           1       0.84      0.82      0.83       804\n",
      "\n",
      "    accuracy                           0.70      1000\n",
      "   macro avg       0.42      0.43      0.43      1000\n",
      "weighted avg       0.72      0.70      0.71      1000\n",
      "\n"
     ]
    }
   ],
   "source": [
    "# instantiate the model (using the default parameters)\n",
    "NB = GaussianNB()\n",
    "\n",
    "# fit the model with data\n",
    "NB.fit(Train_X_BOW, stance_Train_Y)\n",
    "\n",
    "##perform classification and prediction on samples in tf_test\n",
    "predicted_NB = NB.predict(Test_X_BOW)\n",
    "print(classification_report(stance_Test_Y, predicted_NB))"
   ]
  },
  {
   "cell_type": "code",
   "execution_count": 8,
   "metadata": {},
   "outputs": [
    {
     "name": "stdout",
     "output_type": "stream",
     "text": [
      "Naive Bayes Accuracy Score ->  70.5\n",
      "حظر خامنئي المجرم شراء يعد مجزرة متعمدة بحق الشعب الإيراني نقل موقع مريم رجوي موقف رئيسة الجمهورية المنتخبة للمقاومة الإيرانية تصريحات خامنئي المجرم حول حظر استيراد لقاح كورونا الولايات المتحدة بريطانيا فرنسا\n",
      "1\n",
      "1\n"
     ]
    }
   ],
   "source": [
    "print(\"Naive Bayes Accuracy Score -> \",accuracy_score(predicted_NB, stance_Test_Y)*100)\n",
    "print(Test_X[0])\n",
    "print(stance_Test_Y[0])\n",
    "print(predicted_NB[0])"
   ]
  },
  {
   "attachments": {},
   "cell_type": "markdown",
   "metadata": {},
   "source": [
    "### Classify with SMOTE"
   ]
  },
  {
   "cell_type": "code",
   "execution_count": 11,
   "metadata": {},
   "outputs": [
    {
     "name": "stdout",
     "output_type": "stream",
     "text": [
      "              precision    recall  f1-score   support\n",
      "\n",
      "          -1       0.17      0.20      0.19        70\n",
      "           0       0.25      0.28      0.26       126\n",
      "           1       0.84      0.82      0.83       804\n",
      "\n",
      "    accuracy                           0.70      1000\n",
      "   macro avg       0.42      0.43      0.43      1000\n",
      "weighted avg       0.72      0.70      0.71      1000\n",
      "\n"
     ]
    }
   ],
   "source": [
    "# instantiate the model (using the default parameters)\n",
    "SMOTE_NB = GaussianNB()\n",
    "\n",
    "# fit the model with data\n",
    "SMOTE_NB.fit(SMOTE_Train_X_BOW, SMOTE_stance_Train_Y)\n",
    "\n",
    "##perform classification and prediction on samples in tf_test\n",
    "predicted_NB = SMOTE_NB.predict(Test_X_BOW)\n",
    "print(classification_report(stance_Test_Y, predicted_NB))"
   ]
  },
  {
   "cell_type": "code",
   "execution_count": 12,
   "metadata": {},
   "outputs": [
    {
     "name": "stdout",
     "output_type": "stream",
     "text": [
      "Naive Bayes Accuracy Score ->  70.5\n",
      "حظر خامنئي المجرم شراء يعد مجزرة متعمدة بحق الشعب الإيراني نقل موقع مريم رجوي موقف رئيسة الجمهورية المنتخبة للمقاومة الإيرانية تصريحات خامنئي المجرم حول حظر استيراد لقاح كورونا الولايات المتحدة بريطانيا فرنسا\n",
      "1\n",
      "1\n"
     ]
    }
   ],
   "source": [
    "print(\"Naive Bayes Accuracy Score -> \",accuracy_score(predicted_NB, stance_Test_Y)*100)\n",
    "print(Test_X[0])\n",
    "print(stance_Test_Y[0])\n",
    "print(predicted_NB[0])"
   ]
  },
  {
   "attachments": {},
   "cell_type": "markdown",
   "metadata": {},
   "source": [
    "## For Category Classification"
   ]
  },
  {
   "attachments": {},
   "cell_type": "markdown",
   "metadata": {},
   "source": [
    "### Apply SMOTE to the training data to balance the classes"
   ]
  },
  {
   "cell_type": "code",
   "execution_count": 13,
   "metadata": {},
   "outputs": [
    {
     "name": "stdout",
     "output_type": "stream",
     "text": [
      "0.10.0\n",
      "Counter({'info_news': 3616, 'personal': 1025, 'celebrity': 975, 'plan': 606, 'unrelated': 323, 'others': 167, 'requests': 112, 'rumors': 79, 'advice': 67, 'restrictions': 18})\n",
      "Counter({'celebrity': 3616, 'info_news': 3616, 'personal': 3616, 'unrelated': 3616, 'plan': 3616, 'requests': 3616, 'others': 3616, 'rumors': 3616, 'advice': 3616, 'restrictions': 3616})\n"
     ]
    }
   ],
   "source": [
    "# Here we want to apply SMOTE to the data to balance the data against 3 classes\n",
    "# check version number\n",
    "import imblearn\n",
    "print(imblearn.__version__)\n",
    "# Count the number of each class\n",
    "from collections import Counter\n",
    "from imblearn.over_sampling import SMOTE\n",
    "print(Counter(cat_Train_Y))\n",
    "# transform the dataset\n",
    "oversample = SMOTE()\n",
    "SMOTE_Train_X_BOW, SMOTE_cat_Train_Y = oversample.fit_resample(Train_X_BOW, cat_Train_Y)\n",
    "print(Counter(SMOTE_cat_Train_Y))\n"
   ]
  },
  {
   "attachments": {},
   "cell_type": "markdown",
   "metadata": {},
   "source": [
    "### Classify without SMOTE"
   ]
  },
  {
   "cell_type": "code",
   "execution_count": 14,
   "metadata": {},
   "outputs": [
    {
     "name": "stdout",
     "output_type": "stream",
     "text": [
      "              precision    recall  f1-score   support\n",
      "\n",
      "      advice       0.38      0.30      0.33        10\n",
      "   celebrity       0.72      0.59      0.65       145\n",
      "   info_news       0.65      0.64      0.65       545\n",
      "      others       0.07      0.06      0.06        17\n",
      "    personal       0.38      0.42      0.40       128\n",
      "        plan       0.15      0.20      0.17        82\n",
      "    requests       0.12      0.10      0.11        20\n",
      "restrictions       0.00      0.00      0.00         2\n",
      "      rumors       0.00      0.00      0.00        15\n",
      "   unrelated       0.37      0.31      0.33        36\n",
      "\n",
      "    accuracy                           0.52      1000\n",
      "   macro avg       0.28      0.26      0.27      1000\n",
      "weighted avg       0.54      0.52      0.53      1000\n",
      "\n"
     ]
    }
   ],
   "source": [
    "# instantiate the model (using the default parameters)\n",
    "NB = GaussianNB()\n",
    "\n",
    "# fit the model with data\n",
    "NB.fit(Train_X_BOW, cat_Train_Y)\n",
    "\n",
    "##perform classification and prediction on samples in tf_test\n",
    "predicted_NB = NB.predict(Test_X_BOW)\n",
    "print(classification_report(cat_Test_Y, predicted_NB))"
   ]
  },
  {
   "cell_type": "code",
   "execution_count": 16,
   "metadata": {},
   "outputs": [
    {
     "name": "stdout",
     "output_type": "stream",
     "text": [
      "Naive Bayes Accuracy Score ->  52.2\n",
      "حظر خامنئي المجرم شراء يعد مجزرة متعمدة بحق الشعب الإيراني نقل موقع مريم رجوي موقف رئيسة الجمهورية المنتخبة للمقاومة الإيرانية تصريحات خامنئي المجرم حول حظر استيراد لقاح كورونا الولايات المتحدة بريطانيا فرنسا\n",
      "info_news\n",
      "info_news\n"
     ]
    }
   ],
   "source": [
    "print(\"Naive Bayes Accuracy Score -> \",accuracy_score(predicted_NB, cat_Test_Y)*100)\n",
    "print(Test_X[0])\n",
    "print(cat_Test_Y[0])\n",
    "print(predicted_NB[0])"
   ]
  },
  {
   "attachments": {},
   "cell_type": "markdown",
   "metadata": {},
   "source": [
    "### Classify with SMOTE"
   ]
  },
  {
   "cell_type": "code",
   "execution_count": 17,
   "metadata": {},
   "outputs": [
    {
     "name": "stdout",
     "output_type": "stream",
     "text": [
      "              precision    recall  f1-score   support\n",
      "\n",
      "      advice       0.38      0.30      0.33        10\n",
      "   celebrity       0.75      0.59      0.66       145\n",
      "   info_news       0.65      0.64      0.65       545\n",
      "      others       0.07      0.06      0.06        17\n",
      "    personal       0.38      0.42      0.40       128\n",
      "        plan       0.16      0.22      0.18        82\n",
      "    requests       0.12      0.10      0.11        20\n",
      "restrictions       0.00      0.00      0.00         2\n",
      "      rumors       0.00      0.00      0.00        15\n",
      "   unrelated       0.37      0.31      0.33        36\n",
      "\n",
      "    accuracy                           0.52      1000\n",
      "   macro avg       0.29      0.26      0.27      1000\n",
      "weighted avg       0.54      0.52      0.53      1000\n",
      "\n"
     ]
    }
   ],
   "source": [
    "# instantiate the model (using the default parameters)\n",
    "SMOTE_NB = GaussianNB()\n",
    "\n",
    "# fit the model with data\n",
    "SMOTE_NB.fit(SMOTE_Train_X_BOW, SMOTE_cat_Train_Y)\n",
    "\n",
    "##perform classification and prediction on samples in tf_test\n",
    "predicted_NB = SMOTE_NB.predict(Test_X_BOW)\n",
    "print(classification_report(cat_Test_Y, predicted_NB))"
   ]
  },
  {
   "cell_type": "code",
   "execution_count": 18,
   "metadata": {},
   "outputs": [
    {
     "name": "stdout",
     "output_type": "stream",
     "text": [
      "Naive Bayes Accuracy Score ->  52.400000000000006\n",
      "حظر خامنئي المجرم شراء يعد مجزرة متعمدة بحق الشعب الإيراني نقل موقع مريم رجوي موقف رئيسة الجمهورية المنتخبة للمقاومة الإيرانية تصريحات خامنئي المجرم حول حظر استيراد لقاح كورونا الولايات المتحدة بريطانيا فرنسا\n",
      "info_news\n",
      "info_news\n"
     ]
    }
   ],
   "source": [
    "print(\"Naive Bayes Accuracy Score -> \",accuracy_score(predicted_NB, cat_Test_Y)*100)\n",
    "print(Test_X[0])\n",
    "print(cat_Test_Y[0])\n",
    "print(predicted_NB[0])"
   ]
  },
  {
   "cell_type": "code",
   "execution_count": null,
   "metadata": {},
   "outputs": [],
   "source": []
  }
 ],
 "metadata": {
  "kernelspec": {
   "display_name": "Python 3",
   "language": "python",
   "name": "python3"
  },
  "language_info": {
   "codemirror_mode": {
    "name": "ipython",
    "version": 3
   },
   "file_extension": ".py",
   "mimetype": "text/x-python",
   "name": "python",
   "nbconvert_exporter": "python",
   "pygments_lexer": "ipython3",
   "version": "3.10.4 (tags/v3.10.4:9d38120, Mar 23 2022, 23:13:41) [MSC v.1929 64 bit (AMD64)]"
  },
  "orig_nbformat": 4,
  "vscode": {
   "interpreter": {
    "hash": "369f2c481f4da34e4445cda3fffd2e751bd1c4d706f27375911949ba6bb62e1c"
   }
  }
 },
 "nbformat": 4,
 "nbformat_minor": 2
}
